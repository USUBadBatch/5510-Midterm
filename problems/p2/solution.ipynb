{
 "cells": [
  {
   "cell_type": "markdown",
   "metadata": {},
   "source": [
    "# Problem 2\n",
    "\n",
    "Consider the following SCARA manipulator.\n",
    "![SCARA Diagram](images/scara_manipulator.png)"
   ]
  },
  {
   "cell_type": "code",
   "execution_count": 2,
   "metadata": {},
   "outputs": [],
   "source": [
    "import math\n",
    "import numpy as np\n",
    "import matplotlib.pyplot as plt\n",
    "from mpl_toolkits.mplot3d import Axes3D\n",
    "import mpl_toolkits.mplot3d.art3d as art3d"
   ]
  },
  {
   "cell_type": "markdown",
   "metadata": {},
   "source": [
    "### (a) Workspace Volume\n",
    "\n",
    "*Assumptions:* We are assuming that the range of both joints $\\theta_1$ and $\\theta_2$ is $[0, 2\\pi]$ radians. The length of the arms connected at the end of each joint are $l_1 = 60$ cm and $l_2 = 40$ cm. The end effector $d$ has an unknown stated range that we will maintain as $d$ for the calculation of the workspace volume of the SCARA-type manipulator.\n",
    "\n",
    "*Solution:* Because the range of both joints is $[0, 2\\pi]$ radians, the workspace volume created is effectively the difference in area between two circles where the radii of the larger and smaller circles are $l_1 + l_2$ and $l_1 - l_2$ respectively multiplied by the value of $d$.\n",
    "\n",
    "$$\n",
    "\\begin{align*}\n",
    "\tV &= [\\pi \\cdot (l_1 + l_2)^2 - \\pi \\cdot (l_1 - l_2)^2] \\cdot d \\\\\n",
    "\tV &= \\pi d ((l_1 + l_2)^2 - (l_1 - l_2)^2)\n",
    "\\end{align*}\n",
    "$$"
   ]
  },
  {
   "cell_type": "code",
   "execution_count": 3,
   "metadata": {},
   "outputs": [
    {
     "name": "stdout",
     "output_type": "stream",
     "text": [
      "The workspace volume for our SCARA manipulator is 3.015928947446201 x d meters\n"
     ]
    }
   ],
   "source": [
    "def calc_workspace(len1, len2):\n",
    "    return math.pi * ((len1 + len2)**2 - (len1 - len2)**2)\n",
    "\n",
    "print(f\"The workspace volume for our SCARA manipulator is {calc_workspace(0.6, 0.4)} x d meters\")"
   ]
  },
  {
   "cell_type": "code",
   "execution_count": 12,
   "metadata": {},
   "outputs": [
    {
     "data": {
      "image/png": "[encoded data removed]",
      "text/plain": [
       "<Figure size 640x480 with 1 Axes>"
      ]
     },
     "metadata": {},
     "output_type": "display_data"
    }
   ],
   "source": [
    "# Plot 2D Area of Workspace\n",
    "plt.axes()\n",
    "\n",
    "circle1 = plt.Circle((0,0),0.6 + 0.4, fc='blue')\n",
    "circle2 = plt.Circle((0,0), 0.6 - 0.4, fc='white', ec='blue')\n",
    "\n",
    "plt.gca().add_patch(circle1)\n",
    "plt.gca().add_patch(circle2)\n",
    "\n",
    "plt.title('2D Area of Workspace')\n",
    "plt.axis('scaled')\n",
    "\n",
    "plt.show()"
   ]
  },
  {
   "cell_type": "markdown",
   "metadata": {},
   "source": [
    "### (b) DH Parameters \n",
    "\n",
    "Define the DH parameters for the above SCARA manipulator.\n",
    "\n",
    "*Assumptions:* The joint with angle $\\theta_1$ is joint 1. The joint with angle $\\theta_2$ is joint 2. The joint with angle $\\theta_3$ is joint 3. We are assuming that joint 1 and joint 2 only rotate about the conventional normal (i.e. they are perpendicular to the conventional coordinate frame). We are assuming that the three joints exist on the same conventional horizontal plane (i.e. they exist at the plane $z = 0$).\n",
    "\n",
    "*Solution:* The DH parameters for joint 1 are $a = l_1$, $\\alpha = 0$, $d = 0$, $\\theta = \\theta_1$. The DH parameters for joint 2 are $a = l_2$, $\\alpha = 0$, $d = 0$, $\\theta = \\theta_2$. The DH parameters for joint 3 are $a = 0$, $\\alpha = 0$, $d = d_4$, $\\theta = \\theta_3$."
   ]
  },
  {
   "cell_type": "markdown",
   "metadata": {},
   "source": [
    "### (c) Calculate End Effector\n",
    "\n",
    "Calculate the position of the end effector given the following conditions: $\\theta_1 = 30 ^\\circ$, $\\theta_2 = 45 ^\\circ$, $\\theta_3 = 90 ^\\circ$, and $d = 14$ cm ($0.14$ m).\n",
    "\n",
    "*Assumptions:* Assume the position of the first motor is (0, 0, 0).\n",
    "\n",
    "*Solution:* The rotation of $\\theta_1$ and $\\theta_2$ are in the xy plane. This means that the value of $d$ is the z-value of the end effector's position. Therefore, we only need to calculate the x and y positions of the end effector.\n",
    "\n",
    "To solve this geometrically, the two joints create a triangle with two known sides with lengths $l_1$ and $l_2$. Because the value of $\\theta_2$ is based on the coordinate system of that joint, the angle created between the sides $l_1$ and $l_2$ is $180 ^\\circ - \\theta_2$. \n",
    "\n",
    "![Figure 1](images/figure1.png)\n",
    "\n",
    "From this triangle, we can use the law of cosines to calculate the length of the third side (we will call $c$)."
   ]
  },
  {
   "cell_type": "code",
   "execution_count": 6,
   "metadata": {},
   "outputs": [],
   "source": [
    "def law_of_cosines(a, b, angle_C):\n",
    "    return math.sqrt(a**2 + b**2 - 2 * a * b * math.cos(angle_C))"
   ]
  },
  {
   "cell_type": "markdown",
   "metadata": {},
   "source": [
    "Using the value of side $c$, we can now calculate the angle between sides $c$ and $l_1$ (we will call this angle A) using the Law of Sines."
   ]
  },
  {
   "cell_type": "code",
   "execution_count": 7,
   "metadata": {},
   "outputs": [],
   "source": [
    "def law_of_sines(side1, angle1, side2):\n",
    "    return math.asin((side2 * math.sin(angle1)) / side1)"
   ]
  },
  {
   "cell_type": "markdown",
   "metadata": {},
   "source": [
    "Now that we have the length of side $c$ and the angle $A$, we can calculate the x and y positions of the end effector. The side $c$ creates a right triange with the x-axis, so we can use the basic trigonometric functions sine and cosine to calculate the x and y coordinates of the end effector. The x-coordinate of the end effector will be $c \\cdot \\cos(\\theta_1 - A)$, and the y-coordinate will be $c \\cdot \\sin(\\theta_1 - A)$.\n",
    "\n",
    "![Figure 2](images/figure2.png)\n",
    "\n",
    "Therefore, the position of the end effector is ($c \\cdot \\cos(\\theta_1 - A)$, $c \\cdot \\sin(\\theta_1 - A)$, $d$)."
   ]
  },
  {
   "cell_type": "code",
   "execution_count": 8,
   "metadata": {},
   "outputs": [],
   "source": [
    "def get_position(lengths, angles, d):\n",
    "    c = law_of_cosines(a=lengths[0], b=lengths[1], angle_C=180 - angles[1])\n",
    "    angle_A = law_of_sines(side1=c, angle1=180 - angles[1], side2=lengths[1])\n",
    "    \n",
    "    return (c * math.cos(angles[0] - angle_A), c * math.sin(angles[0] - angle_A), -d)"
   ]
  },
  {
   "cell_type": "code",
   "execution_count": 9,
   "metadata": {},
   "outputs": [
    {
     "name": "stdout",
     "output_type": "stream",
     "text": [
      "The (x, y, z) position of the end effector is (0.8337838810177515, 0.5475844632197294, -0.14).\n"
     ]
    }
   ],
   "source": [
    "lengths = (0.6, 0.4) \t# meters\n",
    "angles = (math.pi / 6, math.pi / 4, math.pi / 2)\t# radians\n",
    "d = .14\t# meters\n",
    "\n",
    "position = get_position(lengths, angles, d)\n",
    "\n",
    "print(f\"The (x, y, z) position of the end effector is ({position[0]}, {position[1]}, {position[2]}).\")"
   ]
  }
 ],
 "metadata": {
  "kernelspec": {
   "display_name": "Python 3.10.0 64-bit",
   "language": "python",
   "name": "python3"
  },
  "language_info": {
   "codemirror_mode": {
    "name": "ipython",
    "version": 3
   },
   "file_extension": ".py",
   "mimetype": "text/x-python",
   "name": "python",
   "nbconvert_exporter": "python",
   "pygments_lexer": "ipython3",
   "version": "3.10.0"
  },
  "orig_nbformat": 4,
  "vscode": {
   "interpreter": {
    "hash": "a6d9cfa28a42b4d41470f56da08c5543c73f8bc9dcc92946f6322fb4e7a617b6"
   }
  }
 },
 "nbformat": 4,
 "nbformat_minor": 2
}
