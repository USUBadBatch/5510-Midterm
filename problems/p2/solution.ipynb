{
 "cells": [
  {
   "cell_type": "markdown",
   "metadata": {},
   "source": [
    "# Problem 2"
   ]
  },
  {
   "cell_type": "code",
   "execution_count": 2,
   "metadata": {},
   "outputs": [],
   "source": [
    "import math"
   ]
  },
  {
   "cell_type": "markdown",
   "metadata": {},
   "source": [
    "### (a) Workspace Volume\n",
    "\n",
    "*Assumptions:* We are assuming that the range of both joints $\\theta_1$ and $\\theta_2$ is $[0, 2\\pi]$ radians. The length of the arms connected at the end of each joint are $l_1 = 60$ cm and $l_2 = 40$ cm. The end effector $d$ has an unknown stated range that we will maintain as $d$ for the calculation of the workspace volume of the SCARA-type manipulator.\n",
    "\n",
    "*Solution:* Because the range of both joints is $[0, 2\\pi]$ radians, the workspace volume created is effectively the difference in area between two circles where the radii of the larger and smaller circles are $l_1 + l_2$ and $l_2$ respectively multiplied by the value of $d$.\n",
    "\n",
    "$$\n",
    "\\begin{align*}\n",
    "\tV &= [\\pi \\cdot (l_1 + l_2)^2 - \\pi \\cdot (l_2)^2] \\cdot d \\\\\n",
    "\tV &= \\pi d ((l_1 + l_2)^2 - l_2^2)\n",
    "\\end{align*}\n",
    "$$"
   ]
  },
  {
   "cell_type": "code",
   "execution_count": 10,
   "metadata": {},
   "outputs": [
    {
     "name": "stdout",
     "output_type": "stream",
     "text": [
      "The workspace volume for our SCARA manipulator is 2.638937829015426 x d meters\n"
     ]
    }
   ],
   "source": [
    "def calc_workspace(len1, len2):\n",
    "    return math.pi * ((len1 + len2)**2 - len2**2)\n",
    "\n",
    "print(f\"The workspace volume for our SCARA manipulator is {calc_workspace(0.6, 0.4)} x d meters\")"
   ]
  },
  {
   "cell_type": "markdown",
   "metadata": {},
   "source": []
  }
 ],
 "metadata": {
  "kernelspec": {
   "display_name": "Python 3.10.0 64-bit",
   "language": "python",
   "name": "python3"
  },
  "language_info": {
   "codemirror_mode": {
    "name": "ipython",
    "version": 3
   },
   "file_extension": ".py",
   "mimetype": "text/x-python",
   "name": "python",
   "nbconvert_exporter": "python",
   "pygments_lexer": "ipython3",
   "version": "3.10.0"
  },
  "orig_nbformat": 4,
  "vscode": {
   "interpreter": {
    "hash": "a6d9cfa28a42b4d41470f56da08c5543c73f8bc9dcc92946f6322fb4e7a617b6"
   }
  }
 },
 "nbformat": 4,
 "nbformat_minor": 2
}
