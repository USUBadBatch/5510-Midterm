{
 "cells": [
  {
   "cell_type": "markdown",
   "metadata": {},
   "source": [
    "# Problem 4: Balancing a Pole\n",
    "\n",
    "![Cartpole Diagram](images/cartpole_diagram.png)"
   ]
  },
  {
   "cell_type": "markdown",
   "metadata": {},
   "source": [
    "### (a) Equations of Motion\n",
    "\n",
    "Given the system\n",
    "\n",
    "![Cartpole System Diagram](images/cartpole_system_diagram.png)\n",
    "\n",
    "the equations of motion for the above system are as follows:\n",
    "\n",
    "$$\n",
    "\\ddot{\\theta} = \\frac{g\\sin{\\theta} + \\cos{\\theta} (\\frac{-F - m l \\dot{\\theta}^2 \\sin{\\theta}}{M + m})}{l(\\frac{4}{3} - \\frac{m \\cos^2{\\theta}}{M + m})} \\\\ \\\\\n",
    "\\ddot{x} = \\frac{F + m l (\\dot{\\theta}^2 \\sin{\\theta} - \\ddot{\\theta} \\cos{\\theta})}{M + m}\n",
    "$$\n",
    "\n",
    "where $\\ddot{\\theta}$ is the angular accelaration of the pole and $\\ddot{x}$ is the linear acceleration of the cart on the x-axis. $F$ is the force the controller applies to the cart to move it to the left or to the right along the x-axis. $\\dot{\\theta}$ is the angular velocity of the pole. These equations hold true so long as friction is negligent. (For the simplicity of our cartpole problem, friction is assumed to be negligent.)"
   ]
  },
  {
   "cell_type": "markdown",
   "metadata": {},
   "source": [
    "## (b) Controller\n",
    "\n",
    "Write a basic controller to keep the pole standing on a cart. This is accomplished by determining the direction the pole is falling and moving the cart in the correct direction. If the pole is falling to the left ($\\theta > 0$), the cart should move left in the $x$ direction ($-x$ direction). If the pole is falling to the right ($\\theta < 0$), the cart should move to the right in the $x$ direction ($+x$ direction)."
   ]
  },
  {
   "cell_type": "code",
   "execution_count": null,
   "metadata": {},
   "outputs": [],
   "source": [
    "import math\n",
    "import gym\n",
    "\n",
    "from controller import CartPoleController\n",
    "\n",
    "ITER = 50\n",
    "\n",
    "env = gym.make('CartPole-v1', render_mode='human')\n",
    "env.cart_mass = 4.0\n",
    "env.pole_mass = 0.2\n",
    "env.length = 1.0 / 2\n",
    "env.force_mag = 6.0\n",
    "env.theta_threshold_radians = math.pi / 2\n",
    "\n",
    "controller = CartPoleController(env)\n",
    "\n",
    "for _ in range(ITER):\n",
    "    done = False\n",
    "    state, _ = env.reset()\n",
    "    \n",
    "    while not done:\n",
    "        done = controller.next_step()\n",
    "                \n",
    "env.close()"
   ]
  },
  {
   "cell_type": "markdown",
   "metadata": {},
   "source": [
    "### (c) Max Angle Threshold\n",
    "\n",
    "Given the maximum force that can be applied to the cart is $F=6N$, find the maximum angle that the pole can fall to before it cannot recover. \n",
    "\n",
    "*Assumptions:* We are assuming the angular velocity is $\\dot{\\theta} = 0$. In other words, the pole starts at the given angle $\\theta$ rather than falling to the angle $\\theta$.\n",
    "\n",
    "The maximum angle the pole could occur at would be the angle $\\theta$ at which the angular acceration $\\ddot{\\theta}=0$. This would mean the pole is no longer accelerating to the ground as the force applied to the cart keeps the pole from rotating. The maximum angle is at approximately $\\theta=0.145$ radians or $\\theta=8.408$ degrees as displayed by the graph below. The x-axis displays the angle $\\theta$ that the pole is at. The y-axis is the angular acceleration of the pole. \n",
    "\n",
    "![Angular Acceleration Graph](images/angular_acceleration_graph.png)"
   ]
  }
 ],
 "metadata": {
  "kernelspec": {
   "display_name": "Python 3.10.0 64-bit",
   "language": "python",
   "name": "python3"
  },
  "language_info": {
   "codemirror_mode": {
    "name": "ipython",
    "version": 3
   },
   "file_extension": ".py",
   "mimetype": "text/x-python",
   "name": "python",
   "nbconvert_exporter": "python",
   "pygments_lexer": "ipython3",
   "version": "3.10.0"
  },
  "orig_nbformat": 4,
  "vscode": {
   "interpreter": {
    "hash": "a6d9cfa28a42b4d41470f56da08c5543c73f8bc9dcc92946f6322fb4e7a617b6"
   }
  }
 },
 "nbformat": 4,
 "nbformat_minor": 2
}
