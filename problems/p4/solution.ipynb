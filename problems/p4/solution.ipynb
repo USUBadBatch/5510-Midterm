{
 "cells": [
  {
   "cell_type": "markdown",
   "metadata": {},
   "source": [
    "# Problem 4: Balancing a Pole\n",
    "\n",
    "![Cartpole Diagram](images/cartpole_diagram.png)"
   ]
  },
  {
   "cell_type": "markdown",
   "metadata": {},
   "source": [
    "### (a) Equations of Motion\n",
    "\n",
    "Given the system\n",
    "\n",
    "![Cartpole System Diagram](images/cartpole_system_diagram.png)\n",
    "\n",
    "the equations of motion for the above system are as follows:\n",
    "\n",
    "$$\n",
    "\\ddot{\\theta} = \\frac{g\\sin{\\theta} + \\cos{\\theta} (\\frac{-F - m l \\dot{\\theta}^2 \\sin{\\theta}}{M + m})}{l(\\frac{4}{3} - \\frac{m \\cos^2{\\theta}}{M + m})} \\\\ \\\\\n",
    "\\ddot{x} = \\frac{F + m l (\\dot{\\theta}^2 \\sin{\\theta} - \\ddot{\\theta} \\cos{\\theta})}{M + m}\n",
    "$$\n",
    "\n",
    "where $\\ddot{\\theta}$ is the angular accelaration of the pole and $\\ddot{x}$ is the linear acceleration of the cart on the x-axis. $F$ is the force the controller applies to the cart to move it to the left or to the right along the x-axis. $\\dot{\\theta}$ is the angular velocity of the pole. These equations hold true so long as friction is negligent. (For the simplicity of our cartpole problem, friction is assumed to be negligent.)"
   ]
  },
  {
   "cell_type": "markdown",
   "metadata": {},
   "source": [
    "## (b) Controller\n",
    "\n",
    "Write a basic controller to keep the pole standing on a cart. This is accomplished by determining the direction the pole is falling and moving the cart in the correct direction. If the pole is falling to the left ($\\theta > 0$), the cart should move left in the $x$ direction ($-x$ direction). If the pole is falling to the right ($\\theta < 0$), the cart should move to the right in the $x$ direction ($+x$ direction)."
   ]
  },
  {
   "cell_type": "code",
   "execution_count": 11,
   "metadata": {},
   "outputs": [],
   "source": [
    "import math\n",
    "import gym\n",
    "\n",
    "from controller import CartPoleController\n",
    "\n",
    "ITER = 500\n",
    "\n",
    "env = gym.make('CartPole-v1', render_mode='human')\n",
    "env.cart_mass = 4.0\n",
    "env.pole_mass = 0.2\n",
    "env.length = 1.0 / 2\n",
    "env.force_mag = 6.0\n",
    "env.theta_threshold_radians = 24 * 2 * math.pi / 360\n",
    "\n",
    "controller = CartPoleController(env)\n",
    "\n",
    "for _ in range(ITER):\n",
    "    env.render()\n",
    "    controller.next_step()\n",
    "        \n",
    "env.close()"
   ]
  }
 ],
 "metadata": {
  "kernelspec": {
   "display_name": "Python 3.10.0 64-bit",
   "language": "python",
   "name": "python3"
  },
  "language_info": {
   "codemirror_mode": {
    "name": "ipython",
    "version": 3
   },
   "file_extension": ".py",
   "mimetype": "text/x-python",
   "name": "python",
   "nbconvert_exporter": "python",
   "pygments_lexer": "ipython3",
   "version": "3.10.0"
  },
  "orig_nbformat": 4,
  "vscode": {
   "interpreter": {
    "hash": "a6d9cfa28a42b4d41470f56da08c5543c73f8bc9dcc92946f6322fb4e7a617b6"
   }
  }
 },
 "nbformat": 4,
 "nbformat_minor": 2
}
