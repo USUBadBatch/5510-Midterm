{
 "cells": [
  {
   "cell_type": "markdown",
   "metadata": {},
   "source": [
    "# Problem 4: Balancing a Pole\n",
    "\n",
    "![Cartpole Diagram](images/cartpole_diagram.png)"
   ]
  },
  {
   "cell_type": "code",
   "execution_count": null,
   "metadata": {},
   "outputs": [],
   "source": [
    "### (a) Equations of Motion\n",
    "\n"
   ]
  },
  {
   "cell_type": "markdown",
   "metadata": {},
   "source": [
    "## (b) Controller\n",
    "\n",
    "Write a basic controller to keep the pole standing on a cart. This is accomplished by determining the direction the pole is falling and moving the cart in the correct direction. If the pole is falling to the left ($\\theta > 0$), the cart should move left in the $x$ direction ($-x$ direction). If the pole is falling to the right ($\\theta < 0$), the cart should move to the right in the $x$ direction ($+x$ direction)."
   ]
  },
  {
   "cell_type": "code",
   "execution_count": 2,
   "metadata": {},
   "outputs": [],
   "source": [
    "import math\n",
    "import gym\n",
    "\n",
    "from controller import CartPoleController\n",
    "\n",
    "ITER = 500\n",
    "\n",
    "env = gym.make('CartPole-v1', render_mode='human')\n",
    "env.cart_mass = 4.0\n",
    "env.pole_mass = 0.2\n",
    "env.length = 1.0 / 2\n",
    "env.force_mag = 6.0\n",
    "env.theta_threshold_radians = 24 * 2 * math.pi / 360\n",
    "\n",
    "controller = CartPoleController(env)\n",
    "\n",
    "for _ in range(ITER):\n",
    "    controller.next_step()\n",
    "        \n",
    "env.close()"
   ]
  }
 ],
 "metadata": {
  "kernelspec": {
   "display_name": "Python 3.10.0 64-bit",
   "language": "python",
   "name": "python3"
  },
  "language_info": {
   "codemirror_mode": {
    "name": "ipython",
    "version": 3
   },
   "file_extension": ".py",
   "mimetype": "text/x-python",
   "name": "python",
   "nbconvert_exporter": "python",
   "pygments_lexer": "ipython3",
   "version": "3.10.7"
  },
  "orig_nbformat": 4,
  "vscode": {
   "interpreter": {
    "hash": "a6d9cfa28a42b4d41470f56da08c5543c73f8bc9dcc92946f6322fb4e7a617b6"
   }
  }
 },
 "nbformat": 4,
 "nbformat_minor": 2
}
