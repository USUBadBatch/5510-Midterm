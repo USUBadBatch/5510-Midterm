{
 "cells": [
  {
   "cell_type": "markdown",
   "metadata": {},
   "source": [
    "# Problem 4: Balancing a Pole\n",
    "\n",
    "![Cartpole Diagram](images/cartpole_diagram.png)"
   ]
  },
  {
   "cell_type": "code",
   "execution_count": null,
   "metadata": {},
   "outputs": [],
   "source": [
    "### (a) Equations of Motion\n",
    "\n"
   ]
  }
 ],
 "metadata": {
  "kernelspec": {
   "display_name": "Python 3.10.0 64-bit",
   "language": "python",
   "name": "python3"
  },
  "language_info": {
   "name": "python",
   "version": "3.10.7"
  },
  "orig_nbformat": 4,
  "vscode": {
   "interpreter": {
    "hash": "a6d9cfa28a42b4d41470f56da08c5543c73f8bc9dcc92946f6322fb4e7a617b6"
   }
  }
 },
 "nbformat": 4,
 "nbformat_minor": 2
}
