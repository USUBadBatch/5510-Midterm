{
 "cells": [
  {
   "cell_type": "markdown",
   "metadata": {},
   "source": [
    "# Problem 5: Control and Reinforcement Learning"
   ]
  },
  {
   "cell_type": "markdown",
   "metadata": {},
   "source": [
    "### (a) The merits and demerits of reinforcement learning for mechatronic systems\n",
    "\n",
    "Reinforcement learning emphasizes maximizing a reward function by having an agent choose actions in an environment. In the case of robotics, the agent is the robot and the environment is the world in which the robot interacts with.\n",
    "\n",
    "Reinforcement learning can be quite useful for mechatronic systems. Because there are a lot of uncertainties within a mechatronic system, it can be difficult to determine what actions to take to accomplish certain tasks. With reinforcement learning, the system can learn what actions to take to accomplish a given task based on a reward function. This allows the program to manage a lot of the uncertainty that exists within the system. \n",
    "\n",
    "Reinforcement learning involves the interaction of the agent with its environment. Therefore, the agent is choosing its next action based on its interaction within its environment. This can be of great use in a mechatronic system as the mechatronic system interacts with its surrounding environment to accomplish a given task. Applying reinforcement learning to a mechatronic system trains the system to make decisions based on its environment.\n",
    "\n",
    "Reinforcement learning also does not require large amounts of preexisting data. Training a mechatronic system to accomplish a specific task does not come with a large amount of preexisting data that a model can be trained on. A reinforcement learning model learns based on the effect an action has on the observation space.\n",
    "\n",
    "Reinforcement learning can be useful for mechatronic systems; however, the process of obtaining experience on a real system is costly. This requires a model that learns much quicker than a model that may be applied in other contexts. This greatly increases the difficulty to implement a usable reinforcement model for a mechatronic system. You could attempt to create a simulation to model the actions of the mechatronic system, but attempting to replicate a real-world environment within a simulation is nearly impossible for the precision that is sometimes required for a mechatronic system.\n",
    "\n",
    "The true state of environment can never be completely observed and noise-free in a mechatronic system either. Therefore, the reinforcement learning model cannot know precisely in which state it is in. This makes it much more difficult to measure what affect the action performed had on the environment. This increases the complexity of the problem in the mechatronic system because it has to learn from a partially observed environment.\n",
    "\n",
    "Because reinforcement learning for mechatronic systems deals with real-world environments rather than simulated ones, the reward function must account for real-world experience. This greatly increases the difficulty of developing a reward function that quickly learns."
   ]
  }
 ],
 "metadata": {
  "kernelspec": {
   "display_name": "Python 3.10.0 64-bit",
   "language": "python",
   "name": "python3"
  },
  "language_info": {
   "codemirror_mode": {
    "name": "ipython",
    "version": 3
   },
   "file_extension": ".py",
   "mimetype": "text/x-python",
   "name": "python",
   "nbconvert_exporter": "python",
   "pygments_lexer": "ipython3",
   "version": "3.10.0"
  },
  "orig_nbformat": 4,
  "vscode": {
   "interpreter": {
    "hash": "a6d9cfa28a42b4d41470f56da08c5543c73f8bc9dcc92946f6322fb4e7a617b6"
   }
  }
 },
 "nbformat": 4,
 "nbformat_minor": 2
}
